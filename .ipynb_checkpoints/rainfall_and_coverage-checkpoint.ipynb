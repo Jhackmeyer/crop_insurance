{
 "cells": [
  {
   "cell_type": "code",
   "execution_count": null,
   "id": "ab24fb57",
   "metadata": {},
   "outputs": [],
   "source": [
    "## Import dependencies\n",
    "import numpy as np\n",
    "import pandas as pd\n",
    "from pathlib import Path\n",
    "from getpass import getpass"
   ]
  },
  {
   "cell_type": "code",
   "execution_count": null,
   "id": "368b5cfe",
   "metadata": {},
   "outputs": [],
   "source": [
    "## Load the data\n",
    "file_path = Path(\"\")\n",
    "df = pd.read_csv(file_path)"
   ]
  },
  {
   "cell_type": "code",
   "execution_count": null,
   "id": "92377f2f",
   "metadata": {},
   "outputs": [],
   "source": [
    "# Isolate relevent columns\n",
    "columns=[\"\"]\n",
    "df = df.loc[:, columns].copy()"
   ]
  },
  {
   "cell_type": "code",
   "execution_count": null,
   "id": "e71c3507",
   "metadata": {},
   "outputs": [],
   "source": [
    "## Tansform data"
   ]
  },
  {
   "cell_type": "code",
   "execution_count": null,
   "id": "71f8aea5",
   "metadata": {},
   "outputs": [],
   "source": [
    "#  Identify NA values\n",
    "df.isna().count()"
   ]
  },
  {
   "cell_type": "code",
   "execution_count": null,
   "id": "a83d8669",
   "metadata": {},
   "outputs": [],
   "source": [
    "# Drop NA rows\n",
    "df = df.dropna()"
   ]
  },
  {
   "cell_type": "code",
   "execution_count": null,
   "id": "badb46ce",
   "metadata": {},
   "outputs": [],
   "source": [
    "# Replace values\n",
    "x = {'current': 'desired'}   \n",
    "df = df.replace(x)\n",
    "\n",
    "x = dict.fromkeys(['value1', 'value2', 'value3', 'value4'], 'desired')    \n",
    "df = df.replace(x)"
   ]
  },
  {
   "cell_type": "code",
   "execution_count": null,
   "id": "a08c09b9",
   "metadata": {},
   "outputs": [],
   "source": [
    "# Change datatypes\n",
    "df[] = df[].astype('float')\n"
   ]
  },
  {
   "cell_type": "code",
   "execution_count": null,
   "id": "d13ea2b6",
   "metadata": {},
   "outputs": [],
   "source": []
  },
  {
   "cell_type": "code",
   "execution_count": null,
   "id": "a0ec4ad0",
   "metadata": {},
   "outputs": [],
   "source": []
  },
  {
   "cell_type": "code",
   "execution_count": null,
   "id": "053113de",
   "metadata": {},
   "outputs": [],
   "source": []
  },
  {
   "cell_type": "code",
   "execution_count": null,
   "id": "7e60402e",
   "metadata": {},
   "outputs": [],
   "source": []
  },
  {
   "cell_type": "code",
   "execution_count": null,
   "id": "4fbb0ff6",
   "metadata": {},
   "outputs": [],
   "source": [
    "# Reset index\n",
    "df.reset_index(inplace=True, drop=True)"
   ]
  },
  {
   "cell_type": "code",
   "execution_count": null,
   "id": "03d663ff",
   "metadata": {},
   "outputs": [],
   "source": []
  },
  {
   "cell_type": "code",
   "execution_count": null,
   "id": "a43b697f",
   "metadata": {},
   "outputs": [],
   "source": [
    "## Now we upload our dataframes to SQL\n",
    "# Build the connection string\n",
    "protocol = 'postgresql'\n",
    "user = 'postgres'\n",
    "location = 'localhost'\n",
    "port = '5432'\n",
    "db = 'crop_insurance'\n",
    "password = getpass('Enter database password')"
   ]
  },
  {
   "cell_type": "code",
   "execution_count": null,
   "id": "50bb4261",
   "metadata": {},
   "outputs": [],
   "source": [
    "db_string = f'{protocol}://{user}:{password}@{location}:{port}/{db}'"
   ]
  },
  {
   "cell_type": "code",
   "execution_count": null,
   "id": "37c077d5",
   "metadata": {},
   "outputs": [],
   "source": [
    "df.to_sql(name='farmland_data', con=engine)"
   ]
  },
  {
   "cell_type": "code",
   "execution_count": null,
   "id": "2cb79c46",
   "metadata": {},
   "outputs": [],
   "source": [
    "## See webscraping notes for MongoDB alternative"
   ]
  }
 ],
 "metadata": {
  "kernelspec": {
   "display_name": "PythonData",
   "language": "python",
   "name": "pythondata"
  },
  "language_info": {
   "codemirror_mode": {
    "name": "ipython",
    "version": 3
   },
   "file_extension": ".py",
   "mimetype": "text/x-python",
   "name": "python",
   "nbconvert_exporter": "python",
   "pygments_lexer": "ipython3",
   "version": "3.9.4"
  }
 },
 "nbformat": 4,
 "nbformat_minor": 5
}
