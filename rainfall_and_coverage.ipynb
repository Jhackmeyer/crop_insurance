{
 "cells": [
  {
   "cell_type": "code",
   "execution_count": null,
   "id": "55ad7855",
   "metadata": {},
   "outputs": [],
   "source": [
    "## Import dependencies\n",
    "import numpy as np\n",
    "import pandas as pd\n",
    "from pathlib import Path\n"
   ]
  },
  {
   "cell_type": "code",
   "execution_count": null,
   "id": "e8408a8f",
   "metadata": {},
   "outputs": [],
   "source": [
    "## Load the data\n",
    "file_path = Path(\"\")\n",
    "df = pd.read_csv(file_path)"
   ]
  },
  {
   "cell_type": "code",
   "execution_count": null,
   "id": "dd74a68a",
   "metadata": {},
   "outputs": [],
   "source": [
    "## Tansform data"
   ]
  },
  {
   "cell_type": "code",
   "execution_count": null,
   "id": "800a963a",
   "metadata": {},
   "outputs": [],
   "source": [
    "#  Identify NA values\n",
    "df.isna().count()"
   ]
  },
  {
   "cell_type": "code",
   "execution_count": null,
   "id": "73d2664d",
   "metadata": {},
   "outputs": [],
   "source": [
    "# Drop NA rows\n",
    "df = df.dropna()"
   ]
  },
  {
   "cell_type": "code",
   "execution_count": null,
   "id": "49688189",
   "metadata": {},
   "outputs": [],
   "source": [
    "# Replace values\n",
    "x = {'current': 'desired'}   \n",
    "df = df.replace(x)\n",
    "\n",
    "x = dict.fromkeys(['value1', 'value2', 'value3', 'value4'], 'desired')    \n",
    "df = df.replace(x)"
   ]
  },
  {
   "cell_type": "code",
   "execution_count": null,
   "id": "eaf21de6",
   "metadata": {},
   "outputs": [],
   "source": []
  },
  {
   "cell_type": "code",
   "execution_count": null,
   "id": "ff160feb",
   "metadata": {},
   "outputs": [],
   "source": []
  },
  {
   "cell_type": "code",
   "execution_count": null,
   "id": "517e9221",
   "metadata": {},
   "outputs": [],
   "source": []
  },
  {
   "cell_type": "code",
   "execution_count": null,
   "id": "10abcfd8",
   "metadata": {},
   "outputs": [],
   "source": []
  },
  {
   "cell_type": "code",
   "execution_count": null,
   "id": "9a4d42f0",
   "metadata": {},
   "outputs": [],
   "source": []
  },
  {
   "cell_type": "code",
   "execution_count": null,
   "id": "acc38ca6",
   "metadata": {},
   "outputs": [],
   "source": [
    "# Reset index\n",
    "df.reset_index(inplace=True, drop=True)"
   ]
  },
  {
   "cell_type": "code",
   "execution_count": null,
   "id": "0d8f47c8",
   "metadata": {},
   "outputs": [],
   "source": []
  }
 ],
 "metadata": {
  "kernelspec": {
   "display_name": "PythonData",
   "language": "python",
   "name": "pythondata"
  },
  "language_info": {
   "codemirror_mode": {
    "name": "ipython",
    "version": 3
   },
   "file_extension": ".py",
   "mimetype": "text/x-python",
   "name": "python",
   "nbconvert_exporter": "python",
   "pygments_lexer": "ipython3",
   "version": "3.9.4"
  }
 },
 "nbformat": 4,
 "nbformat_minor": 5
}
