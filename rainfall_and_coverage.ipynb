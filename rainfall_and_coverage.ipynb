{
 "cells": [
  {
   "cell_type": "code",
   "execution_count": null,
   "id": "2fc07240",
   "metadata": {},
   "outputs": [],
   "source": [
    "## Import dependencies\n",
    "import numpy as np\n",
    "import pandas as pd\n",
    "from pathlib import Path\n",
    "from getpass import getpass\n",
    "from sqlalchemy import create_engine "
   ]
  },
  {
   "cell_type": "code",
   "execution_count": null,
   "id": "d59fea31",
   "metadata": {},
   "outputs": [],
   "source": [
    "## Load the data\n",
    "file_path = Path(\"\")\n",
    "df = pd.read_csv(file_path)"
   ]
  },
  {
   "cell_type": "code",
   "execution_count": null,
   "id": "664dd449",
   "metadata": {},
   "outputs": [],
   "source": [
    "# Isolate relevent columns\n",
    "columns=[\"\"]\n",
    "df = df.loc[:, columns].copy()"
   ]
  },
  {
   "cell_type": "code",
   "execution_count": null,
   "id": "9755eb74",
   "metadata": {},
   "outputs": [],
   "source": [
    "## Tansform data"
   ]
  },
  {
   "cell_type": "code",
   "execution_count": null,
   "id": "abb683a5",
   "metadata": {},
   "outputs": [],
   "source": [
    "#  Identify NA values\n",
    "df.isna().count()"
   ]
  },
  {
   "cell_type": "code",
   "execution_count": null,
   "id": "a309df55",
   "metadata": {},
   "outputs": [],
   "source": [
    "# Drop NA rows\n",
    "df = df.dropna()"
   ]
  },
  {
   "cell_type": "code",
   "execution_count": null,
   "id": "c1632c02",
   "metadata": {},
   "outputs": [],
   "source": [
    "# Replace values\n",
    "x = {'current': 'desired'}   \n",
    "df = df.replace(x)\n",
    "\n",
    "x = dict.fromkeys(['value1', 'value2', 'value3', 'value4'], 'desired')    \n",
    "df = df.replace(x)"
   ]
  },
  {
   "cell_type": "code",
   "execution_count": null,
   "id": "edb64b86",
   "metadata": {},
   "outputs": [],
   "source": [
    "# Change datatypes\n",
    "df[] = df[].astype('float')\n"
   ]
  },
  {
   "cell_type": "code",
   "execution_count": null,
   "id": "80727038",
   "metadata": {},
   "outputs": [],
   "source": []
  },
  {
   "cell_type": "code",
   "execution_count": null,
   "id": "d6900b8e",
   "metadata": {},
   "outputs": [],
   "source": []
  },
  {
   "cell_type": "code",
   "execution_count": null,
   "id": "3a4338f6",
   "metadata": {},
   "outputs": [],
   "source": []
  },
  {
   "cell_type": "code",
   "execution_count": null,
   "id": "bdbce5f6",
   "metadata": {},
   "outputs": [],
   "source": []
  },
  {
   "cell_type": "code",
   "execution_count": null,
   "id": "5b042a33",
   "metadata": {},
   "outputs": [],
   "source": [
    "# Reset index\n",
    "df.reset_index(inplace=True, drop=True)"
   ]
  },
  {
   "cell_type": "code",
   "execution_count": null,
   "id": "936cfac0",
   "metadata": {},
   "outputs": [],
   "source": []
  },
  {
   "cell_type": "code",
   "execution_count": null,
   "id": "eb5b4bdc",
   "metadata": {},
   "outputs": [],
   "source": [
    "## Now we upload our dataframes to SQL\n",
    "# Build the connection string\n",
    "protocol = 'postgresql'\n",
    "user = 'postgres'\n",
    "location = 'localhost'\n",
    "port = '5432'\n",
    "db = 'crop_insurance'\n",
    "password = getpass('Enter database password')"
   ]
  },
  {
   "cell_type": "code",
   "execution_count": null,
   "id": "1bdc15d4",
   "metadata": {},
   "outputs": [],
   "source": [
    "# Store \n",
    "db_string = f'{protocol}://{user}:{password}@{location}:{port}/{db}'"
   ]
  },
  {
   "cell_type": "code",
   "execution_count": null,
   "id": "748e53ac",
   "metadata": {},
   "outputs": [],
   "source": [
    "# Create database engine\n",
    "engine = create_engine(db_string)"
   ]
  },
  {
   "cell_type": "code",
   "execution_count": null,
   "id": "e004f492",
   "metadata": {},
   "outputs": [],
   "source": [
    "df.to_sql(name='farmland_data', con=engine)"
   ]
  },
  {
   "cell_type": "code",
   "execution_count": null,
   "id": "59702901",
   "metadata": {},
   "outputs": [],
   "source": [
    "## See webscraping notes for MongoDB alternative"
   ]
  }
 ],
 "metadata": {
  "kernelspec": {
   "display_name": "PythonData",
   "language": "python",
   "name": "pythondata"
  },
  "language_info": {
   "codemirror_mode": {
    "name": "ipython",
    "version": 3
   },
   "file_extension": ".py",
   "mimetype": "text/x-python",
   "name": "python",
   "nbconvert_exporter": "python",
   "pygments_lexer": "ipython3",
   "version": "3.9.4"
  }
 },
 "nbformat": 4,
 "nbformat_minor": 5
}
